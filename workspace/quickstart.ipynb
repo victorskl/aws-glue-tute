{
 "cells": [
  {
   "cell_type": "code",
   "execution_count": 1,
   "metadata": {
    "pycharm": {
     "name": "#%%\n"
    },
    "tags": []
   },
   "outputs": [
    {
     "name": "stdout",
     "output_type": "stream",
     "text": [
      "Starting Spark application\n"
     ]
    },
    {
     "data": {
      "text/html": [
       "<table>\n",
       "<tr><th>ID</th><th>YARN Application ID</th><th>Kind</th><th>State</th><th>Spark UI</th><th>Driver log</th><th>User</th><th>Current session?</th></tr><tr><td>0</td><td>None</td><td>pyspark</td><td>idle</td><td></td><td></td><td>None</td><td>✔</td></tr></table>"
      ],
      "text/plain": [
       "<IPython.core.display.HTML object>"
      ]
     },
     "metadata": {},
     "output_type": "display_data"
    },
    {
     "data": {
      "application/vnd.jupyter.widget-view+json": {
       "model_id": "",
       "version_major": 2,
       "version_minor": 0
      },
      "text/plain": [
       "FloatProgress(value=0.0, bar_style='info', description='Progress:', layout=Layout(height='25px', width='50%'),…"
      ]
     },
     "metadata": {},
     "output_type": "display_data"
    },
    {
     "name": "stdout",
     "output_type": "stream",
     "text": [
      "SparkSession available as 'spark'.\n"
     ]
    },
    {
     "data": {
      "application/vnd.jupyter.widget-view+json": {
       "model_id": "",
       "version_major": 2,
       "version_minor": 0
      },
      "text/plain": [
       "FloatProgress(value=0.0, bar_style='info', description='Progress:', layout=Layout(height='25px', width='50%'),…"
      ]
     },
     "metadata": {},
     "output_type": "display_data"
    }
   ],
   "source": [
    "from pyspark import SparkContext\n",
    "from awsglue.context import GlueContext"
   ]
  },
  {
   "cell_type": "code",
   "execution_count": 2,
   "metadata": {},
   "outputs": [
    {
     "data": {
      "application/vnd.jupyter.widget-view+json": {
       "model_id": "",
       "version_major": 2,
       "version_minor": 0
      },
      "text/plain": [
       "FloatProgress(value=0.0, bar_style='info', description='Progress:', layout=Layout(height='25px', width='50%'),…"
      ]
     },
     "metadata": {},
     "output_type": "display_data"
    }
   ],
   "source": [
    "spark_ctx = SparkContext.getOrCreate()"
   ]
  },
  {
   "cell_type": "code",
   "execution_count": 3,
   "metadata": {},
   "outputs": [
    {
     "data": {
      "application/vnd.jupyter.widget-view+json": {
       "model_id": "",
       "version_major": 2,
       "version_minor": 0
      },
      "text/plain": [
       "FloatProgress(value=0.0, bar_style='info', description='Progress:', layout=Layout(height='25px', width='50%'),…"
      ]
     },
     "metadata": {},
     "output_type": "display_data"
    },
    {
     "name": "stdout",
     "output_type": "stream",
     "text": [
      "<SparkContext master=local appName=livy-session-0>"
     ]
    }
   ],
   "source": [
    "spark_ctx"
   ]
  },
  {
   "cell_type": "code",
   "execution_count": 4,
   "metadata": {},
   "outputs": [
    {
     "data": {
      "application/vnd.jupyter.widget-view+json": {
       "model_id": "",
       "version_major": 2,
       "version_minor": 0
      },
      "text/plain": [
       "FloatProgress(value=0.0, bar_style='info', description='Progress:', layout=Layout(height='25px', width='50%'),…"
      ]
     },
     "metadata": {},
     "output_type": "display_data"
    }
   ],
   "source": [
    "glue_ctx = GlueContext(spark_ctx)"
   ]
  },
  {
   "cell_type": "code",
   "execution_count": 5,
   "metadata": {},
   "outputs": [
    {
     "data": {
      "application/vnd.jupyter.widget-view+json": {
       "model_id": "",
       "version_major": 2,
       "version_minor": 0
      },
      "text/plain": [
       "FloatProgress(value=0.0, bar_style='info', description='Progress:', layout=Layout(height='25px', width='50%'),…"
      ]
     },
     "metadata": {},
     "output_type": "display_data"
    },
    {
     "name": "stdout",
     "output_type": "stream",
     "text": [
      "<awsglue.context.GlueContext object at 0x7f22ef724390>"
     ]
    }
   ],
   "source": [
    "glue_ctx"
   ]
  },
  {
   "cell_type": "code",
   "execution_count": 6,
   "metadata": {},
   "outputs": [
    {
     "data": {
      "application/vnd.jupyter.widget-view+json": {
       "model_id": "",
       "version_major": 2,
       "version_minor": 0
      },
      "text/plain": [
       "FloatProgress(value=0.0, bar_style='info', description='Progress:', layout=Layout(height='25px', width='50%'),…"
      ]
     },
     "metadata": {},
     "output_type": "display_data"
    },
    {
     "name": "stdout",
     "output_type": "stream",
     "text": [
      "<awsglue.data_source.DataSource object at 0x7f22edb2db50>"
     ]
    }
   ],
   "source": [
    "# GlueContext API\n",
    "# https://docs.aws.amazon.com/glue/latest/dg/aws-glue-api-crawler-pyspark-extensions-glue-context.html\n",
    "\n",
    "data_source = glue_ctx.getSource(\n",
    "    \"file\",\n",
    "    paths=[\n",
    "        \"/home/glue_user/workspace/jupyter_workspace/memberships_subset_head_10.ndjson\",\n",
    "    ])\n",
    "data_source.setFormat(\"json\")\n",
    "\n",
    "data_source"
   ]
  },
  {
   "cell_type": "code",
   "execution_count": 7,
   "metadata": {},
   "outputs": [
    {
     "data": {
      "application/vnd.jupyter.widget-view+json": {
       "model_id": "",
       "version_major": 2,
       "version_minor": 0
      },
      "text/plain": [
       "FloatProgress(value=0.0, bar_style='info', description='Progress:', layout=Layout(height='25px', width='50%'),…"
      ]
     },
     "metadata": {},
     "output_type": "display_data"
    },
    {
     "name": "stdout",
     "output_type": "stream",
     "text": [
      "<awsglue.dynamicframe.DynamicFrame object at 0x7f22edb2d590>"
     ]
    }
   ],
   "source": [
    "local_dydf = data_source.getFrame()  # return awsglue.dynamicframe.DynamicFrame\n",
    "local_dydf"
   ]
  },
  {
   "cell_type": "code",
   "execution_count": 8,
   "metadata": {},
   "outputs": [
    {
     "data": {
      "application/vnd.jupyter.widget-view+json": {
       "model_id": "",
       "version_major": 2,
       "version_minor": 0
      },
      "text/plain": [
       "FloatProgress(value=0.0, bar_style='info', description='Progress:', layout=Layout(height='25px', width='50%'),…"
      ]
     },
     "metadata": {},
     "output_type": "display_data"
    },
    {
     "name": "stdout",
     "output_type": "stream",
     "text": [
      "+--------------------+----------------+--------------------+------+--------------------+---------------------+----------+\n",
      "|             area_id| on_behalf_of_id|     organization_id|  role|           person_id|legislative_period_id|start_date|\n",
      "+--------------------+----------------+--------------------+------+--------------------+---------------------+----------+\n",
      "|ocd-division/coun...|party/republican|d56acebe-8fdc-47b...|member|0005af3a-9471-4d1...|             term/103|      null|\n",
      "|ocd-division/coun...|party/republican|d56acebe-8fdc-47b...|member|0005af3a-9471-4d1...|             term/104|      null|\n",
      "|ocd-division/coun...|party/republican|d56acebe-8fdc-47b...|member|0005af3a-9471-4d1...|             term/105|1997-01-07|\n",
      "|ocd-division/coun...|party/republican|d56acebe-8fdc-47b...|member|0005af3a-9471-4d1...|             term/106|      null|\n",
      "|ocd-division/coun...|party/republican|d56acebe-8fdc-47b...|member|0005af3a-9471-4d1...|             term/107|      null|\n",
      "|ocd-division/coun...|party/republican|d56acebe-8fdc-47b...|member|0005af3a-9471-4d1...|             term/108|2003-01-07|\n",
      "|ocd-division/coun...|party/republican|d56acebe-8fdc-47b...|member|00aa2dc0-bfb6-441...|             term/112|      null|\n",
      "|ocd-division/coun...|party/republican|d56acebe-8fdc-47b...|member|00aa2dc0-bfb6-441...|             term/113|      null|\n",
      "|ocd-division/coun...|party/republican|d56acebe-8fdc-47b...|member|00aa2dc0-bfb6-441...|             term/114|      null|\n",
      "|ocd-division/coun...|party/republican|d56acebe-8fdc-47b...|member|00aa2dc0-bfb6-441...|             term/115|      null|\n",
      "+--------------------+----------------+--------------------+------+--------------------+---------------------+----------+"
     ]
    }
   ],
   "source": [
    "local_dydf.toDF().show()"
   ]
  },
  {
   "cell_type": "code",
   "execution_count": 9,
   "metadata": {},
   "outputs": [
    {
     "data": {
      "application/vnd.jupyter.widget-view+json": {
       "model_id": "",
       "version_major": 2,
       "version_minor": 0
      },
      "text/plain": [
       "FloatProgress(value=0.0, bar_style='info', description='Progress:', layout=Layout(height='25px', width='50%'),…"
      ]
     },
     "metadata": {},
     "output_type": "display_data"
    }
   ],
   "source": [
    "# The following required working AWS setup as it reads from remote S3 store.\n",
    "\n",
    "member_dydf = glue_ctx.create_dynamic_frame_from_options(\n",
    "    connection_type=\"s3\",\n",
    "    connection_options={\n",
    "        \"paths\": [\n",
    "            \"s3://awsglue-datasets/examples/us-legislators/all/memberships.json\",\n",
    "        ]\n",
    "    }, format=\"json\"\n",
    ")"
   ]
  },
  {
   "cell_type": "code",
   "execution_count": 10,
   "metadata": {},
   "outputs": [
    {
     "data": {
      "application/vnd.jupyter.widget-view+json": {
       "model_id": "",
       "version_major": 2,
       "version_minor": 0
      },
      "text/plain": [
       "FloatProgress(value=0.0, bar_style='info', description='Progress:', layout=Layout(height='25px', width='50%'),…"
      ]
     },
     "metadata": {},
     "output_type": "display_data"
    },
    {
     "name": "stdout",
     "output_type": "stream",
     "text": [
      "<awsglue.dynamicframe.DynamicFrame object at 0x7f22edb46510>"
     ]
    }
   ],
   "source": [
    "member_dydf"
   ]
  },
  {
   "cell_type": "code",
   "execution_count": 11,
   "metadata": {},
   "outputs": [
    {
     "data": {
      "application/vnd.jupyter.widget-view+json": {
       "model_id": "",
       "version_major": 2,
       "version_minor": 0
      },
      "text/plain": [
       "FloatProgress(value=0.0, bar_style='info', description='Progress:', layout=Layout(height='25px', width='50%'),…"
      ]
     },
     "metadata": {},
     "output_type": "display_data"
    },
    {
     "name": "stdout",
     "output_type": "stream",
     "text": [
      "+--------------------+----------------+--------------------+------+--------------------+---------------------+----------+--------+\n",
      "|             area_id| on_behalf_of_id|     organization_id|  role|           person_id|legislative_period_id|start_date|end_date|\n",
      "+--------------------+----------------+--------------------+------+--------------------+---------------------+----------+--------+\n",
      "|ocd-division/coun...|party/republican|d56acebe-8fdc-47b...|member|0005af3a-9471-4d1...|             term/103|      null|    null|\n",
      "|ocd-division/coun...|party/republican|d56acebe-8fdc-47b...|member|0005af3a-9471-4d1...|             term/104|      null|    null|\n",
      "|ocd-division/coun...|party/republican|d56acebe-8fdc-47b...|member|0005af3a-9471-4d1...|             term/105|1997-01-07|    null|\n",
      "|ocd-division/coun...|party/republican|d56acebe-8fdc-47b...|member|0005af3a-9471-4d1...|             term/106|      null|    null|\n",
      "|ocd-division/coun...|party/republican|d56acebe-8fdc-47b...|member|0005af3a-9471-4d1...|             term/107|      null|    null|\n",
      "|ocd-division/coun...|party/republican|d56acebe-8fdc-47b...|member|0005af3a-9471-4d1...|             term/108|2003-01-07|    null|\n",
      "|ocd-division/coun...|party/republican|d56acebe-8fdc-47b...|member|00aa2dc0-bfb6-441...|             term/112|      null|    null|\n",
      "|ocd-division/coun...|party/republican|d56acebe-8fdc-47b...|member|00aa2dc0-bfb6-441...|             term/113|      null|    null|\n",
      "|ocd-division/coun...|party/republican|d56acebe-8fdc-47b...|member|00aa2dc0-bfb6-441...|             term/114|      null|    null|\n",
      "|ocd-division/coun...|party/republican|d56acebe-8fdc-47b...|member|00aa2dc0-bfb6-441...|             term/115|      null|    null|\n",
      "|ocd-division/coun...|party/republican|d56acebe-8fdc-47b...|member|00aca284-9323-495...|             term/113|2014-06-24|    null|\n",
      "|ocd-division/coun...|party/republican|d56acebe-8fdc-47b...|member|00aca284-9323-495...|             term/114|      null|    null|\n",
      "|ocd-division/coun...|party/republican|d56acebe-8fdc-47b...|member|00b73df5-4180-441...|             term/100|      null|    null|\n",
      "|ocd-division/coun...|party/republican|d56acebe-8fdc-47b...|member|00b73df5-4180-441...|             term/101|      null|    null|\n",
      "|ocd-division/coun...|party/republican|d56acebe-8fdc-47b...|member|00b73df5-4180-441...|             term/102|      null|    null|\n",
      "|ocd-division/coun...|party/republican|d56acebe-8fdc-47b...|member|00b73df5-4180-441...|             term/103|      null|    null|\n",
      "|ocd-division/coun...|party/republican|d56acebe-8fdc-47b...|member|00b73df5-4180-441...|             term/104|      null|    null|\n",
      "|ocd-division/coun...|party/republican|d56acebe-8fdc-47b...|member|00b73df5-4180-441...|             term/105|1997-01-07|    null|\n",
      "|ocd-division/coun...|party/republican|d56acebe-8fdc-47b...|member|00b73df5-4180-441...|              term/97|      null|    null|\n",
      "|ocd-division/coun...|party/republican|d56acebe-8fdc-47b...|member|00b73df5-4180-441...|              term/98|      null|    null|\n",
      "+--------------------+----------------+--------------------+------+--------------------+---------------------+----------+--------+\n",
      "only showing top 20 rows"
     ]
    }
   ],
   "source": [
    "member_dydf.toDF().show()"
   ]
  },
  {
   "cell_type": "code",
   "execution_count": null,
   "metadata": {},
   "outputs": [],
   "source": []
  }
 ],
 "metadata": {
  "kernelspec": {
   "display_name": "PySpark",
   "language": "python",
   "name": "pysparkkernel"
  },
  "language_info": {
   "codemirror_mode": {
    "name": "python",
    "version": 3
   },
   "file_extension": ".py",
   "mimetype": "text/x-python",
   "name": "pyspark",
   "pygments_lexer": "python3"
  }
 },
 "nbformat": 4,
 "nbformat_minor": 4
}
